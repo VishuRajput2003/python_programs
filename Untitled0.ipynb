{
  "nbformat": 4,
  "nbformat_minor": 0,
  "metadata": {
    "colab": {
      "name": "Untitled0.ipynb",
      "provenance": [],
      "collapsed_sections": [],
      "authorship_tag": "ABX9TyNmXTv+jzw0fyS7JxSA5mzG",
      "include_colab_link": true
    },
    "kernelspec": {
      "name": "python3",
      "display_name": "Python 3"
    },
    "language_info": {
      "name": "python"
    }
  },
  "cells": [
    {
      "cell_type": "markdown",
      "metadata": {
        "id": "view-in-github",
        "colab_type": "text"
      },
      "source": [
        "<a href=\"https://colab.research.google.com/github/VishuRajput2003/python_programs/blob/main/Untitled0.ipynb\" target=\"_parent\"><img src=\"https://colab.research.google.com/assets/colab-badge.svg\" alt=\"Open In Colab\"/></a>"
      ]
    },
    {
      "cell_type": "markdown",
      "metadata": {
        "id": "koerZHmT_w73"
      },
      "source": [
        "\n",
        "#Integer"
      ]
    },
    {
      "cell_type": "code",
      "metadata": {
        "colab": {
          "base_uri": "https://localhost:8080/"
        },
        "id": "hI-E3ElF7x5f",
        "outputId": "9588115f-7c32-47d7-be23-c1ace9aea5c7"
      },
      "source": [
        "#integer\n",
        "x=12\n",
        "y=-5\n",
        "z=x+y\n",
        "z\n",
        "print(x)"
      ],
      "execution_count": 4,
      "outputs": [
        {
          "output_type": "stream",
          "name": "stdout",
          "text": [
            "12\n"
          ]
        }
      ]
    },
    {
      "cell_type": "code",
      "metadata": {
        "colab": {
          "base_uri": "https://localhost:8080/"
        },
        "id": "qzZh5Hx39kG6",
        "outputId": "b22b3a37-f9c5-4ff3-862c-1a8104f86717"
      },
      "source": [
        "#integer---floor division\\normal division\n",
        "x=29//3\n",
        "print(x)\n",
        "x=7/2\n",
        "print(x)\n",
        "x=-7//2\n",
        "print(x)\n",
        "x=-7/2\n",
        "print(x)\n"
      ],
      "execution_count": 10,
      "outputs": [
        {
          "output_type": "stream",
          "name": "stdout",
          "text": [
            "9\n",
            "3.5\n",
            "-4\n",
            "-3.5\n"
          ]
        }
      ]
    },
    {
      "cell_type": "code",
      "metadata": {
        "colab": {
          "base_uri": "https://localhost:8080/"
        },
        "id": "I47lQxvo8z5E",
        "outputId": "3bae5ef3-f442-444b-dc81-36044efe0023"
      },
      "source": [
        "#float\n",
        "x=1.3\n",
        "\n",
        "#type(x)\n",
        "type(y)"
      ],
      "execution_count": 7,
      "outputs": [
        {
          "output_type": "execute_result",
          "data": {
            "text/plain": [
              "int"
            ]
          },
          "metadata": {},
          "execution_count": 7
        }
      ]
    },
    {
      "cell_type": "code",
      "metadata": {
        "colab": {
          "base_uri": "https://localhost:8080/"
        },
        "id": "v3s0Bbgm9aR3",
        "outputId": "83fef46b-327f-4e6b-f007-b00397e89696"
      },
      "source": [
        "#exponential(power)\n",
        "#we denote power by **\n",
        "x=3**2\n",
        "print(x)\n",
        "x=3*2\n",
        "print(x)\n"
      ],
      "execution_count": 13,
      "outputs": [
        {
          "output_type": "stream",
          "name": "stdout",
          "text": [
            "9\n",
            "6\n"
          ]
        }
      ]
    },
    {
      "cell_type": "code",
      "metadata": {
        "colab": {
          "base_uri": "https://localhost:8080/"
        },
        "id": "z2cbvLlJAlaB",
        "outputId": "f326a3c9-5b51-4303-903e-f4f8ca50307b"
      },
      "source": [
        "#modulus\n",
        "#as we know that % gives us remainder \n",
        "7%2"
      ],
      "execution_count": 14,
      "outputs": [
        {
          "output_type": "execute_result",
          "data": {
            "text/plain": [
              "1"
            ]
          },
          "metadata": {},
          "execution_count": 14
        }
      ]
    },
    {
      "cell_type": "code",
      "metadata": {
        "id": "OWeMLmtOA6he"
      },
      "source": [
        "#order of operation followed in python\n",
        "#it is mostly same as BODMAS rule in maths\n",
        "#power==**\n",
        "#"
      ],
      "execution_count": null,
      "outputs": []
    },
    {
      "cell_type": "code",
      "metadata": {
        "colab": {
          "base_uri": "https://localhost:8080/"
        },
        "id": "IUrN5pq9CAjW",
        "outputId": "1c9279de-3ca1-4aca-86c2-3c96bdbb37ec"
      },
      "source": [
        "#scientific notation\n",
        "#Ex=10**x\n",
        "#4E6===4*10**6\n",
        "x=4E6\n",
        "y=6E2\n",
        "z=x+y\n",
        "print(z)"
      ],
      "execution_count": 16,
      "outputs": [
        {
          "output_type": "stream",
          "name": "stdout",
          "text": [
            "4000600.0\n"
          ]
        }
      ]
    },
    {
      "cell_type": "code",
      "metadata": {
        "colab": {
          "base_uri": "https://localhost:8080/"
        },
        "id": "j7CZPvZECvqn",
        "outputId": "d954c28c-3f60-4907-e83e-9719d8537b06"
      },
      "source": [
        "#note::z=x%y..here if x is smaller than y the answer will be x..always\n",
        "x=5%6\n",
        "print(x)\n",
        "x=7%3\n",
        "print(x)"
      ],
      "execution_count": 18,
      "outputs": [
        {
          "output_type": "stream",
          "name": "stdout",
          "text": [
            "5\n",
            "1\n"
          ]
        }
      ]
    },
    {
      "cell_type": "code",
      "metadata": {
        "id": "MfVQWRWhDQKh"
      },
      "source": [
        ""
      ],
      "execution_count": null,
      "outputs": []
    }
  ]
}